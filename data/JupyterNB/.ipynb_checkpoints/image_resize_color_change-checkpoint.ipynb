{
 "cells": [
  {
   "cell_type": "code",
   "execution_count": 5,
   "metadata": {},
   "outputs": [],
   "source": [
    "#!pip install pillow\n",
    "#!pip install python-resize-image"
   ]
  },
  {
   "cell_type": "code",
   "execution_count": 12,
   "metadata": {},
   "outputs": [],
   "source": [
    "from PIL import Image\n",
    "from resizeimage import resizeimage\n",
    "\n",
    "img = Image.open(\"jupyternb_logo.png\")\n",
    "img = resizeimage.resize('thumbnail', img, [100, 100])\n",
    "img.save('jupyternb_logo_100x100.png', img.format)"
   ]
  },
  {
   "cell_type": "code",
   "execution_count": 21,
   "metadata": {},
   "outputs": [],
   "source": [
    "img = Image.open(\"jupyternb_logo.png\")\n",
    "img = img.convert(\"RGBA\")\n",
    "\n",
    "pixdata = img.load()\n",
    "\n",
    "# Clean the background noise, if color != white, then set to black.\n",
    "\n",
    "for y in range(img.size[1]):\n",
    "    for x in range(img.size[0]):\n",
    "       if pixdata[x, y][3] != 0:\n",
    "            pixdata[x, y] = (255, 255, 255, 255)\n",
    "        \n",
    "img.save('jupyternb_white.png', img.format)\n",
    "img = Image.open(\"jupyternb_white.png\")\n",
    "img = resizeimage.resize('thumbnail', img, [100, 100])\n",
    "img.save('jupyternb_white_100x100.png', img.format)"
   ]
  }
 ],
 "metadata": {
  "kernelspec": {
   "display_name": "Python 3",
   "language": "python",
   "name": "python3"
  },
  "language_info": {
   "codemirror_mode": {
    "name": "ipython",
    "version": 3
   },
   "file_extension": ".py",
   "mimetype": "text/x-python",
   "name": "python",
   "nbconvert_exporter": "python",
   "pygments_lexer": "ipython3",
   "version": "3.6.3"
  }
 },
 "nbformat": 4,
 "nbformat_minor": 2
}
